{
 "cells": [
  {
   "cell_type": "code",
   "execution_count": 2,
   "id": "4365a8eb",
   "metadata": {},
   "outputs": [],
   "source": [
    "import pandas as pd\n",
    "from selenium import webdriver\n",
    "from selenium.webdriver.common.keys import Keys\n",
    "from selenium.webdriver.common.by import By"
   ]
  },
  {
   "cell_type": "code",
   "execution_count": 17,
   "id": "ea367da1",
   "metadata": {},
   "outputs": [
    {
     "data": {
      "text/html": [
       "<div>\n",
       "<style scoped>\n",
       "    .dataframe tbody tr th:only-of-type {\n",
       "        vertical-align: middle;\n",
       "    }\n",
       "\n",
       "    .dataframe tbody tr th {\n",
       "        vertical-align: top;\n",
       "    }\n",
       "\n",
       "    .dataframe thead th {\n",
       "        text-align: right;\n",
       "    }\n",
       "</style>\n",
       "<table border=\"1\" class=\"dataframe\">\n",
       "  <thead>\n",
       "    <tr style=\"text-align: right;\">\n",
       "      <th></th>\n",
       "      <th>Dólar</th>\n",
       "      <th>Euro</th>\n",
       "      <th>Ouro</th>\n",
       "    </tr>\n",
       "  </thead>\n",
       "  <tbody>\n",
       "    <tr>\n",
       "      <th>0</th>\n",
       "      <td>5.1238</td>\n",
       "      <td>5.5409</td>\n",
       "      <td>312.24</td>\n",
       "    </tr>\n",
       "  </tbody>\n",
       "</table>\n",
       "</div>"
      ],
      "text/plain": [
       "    Dólar    Euro    Ouro\n",
       "0  5.1238  5.5409  312.24"
      ]
     },
     "metadata": {},
     "output_type": "display_data"
    }
   ],
   "source": [
    "Navegador = webdriver.Chrome()\n",
    "\n",
    "#Cotação Dólar\n",
    "Navegador.get(\"https://www.google.com\")\n",
    "Navegador.find_element(By.XPATH,\n",
    "                       \"/html/body/div[1]/div[3]/form/div[1]/div[1]/div[1]/div/div[2]/input\").send_keys(\"cotacao dolar\")\n",
    "Navegador.find_element(By.XPATH,\n",
    "                       \"/html/body/div[1]/div[3]/form/div[1]/div[1]/div[1]/div/div[2]/input\").send_keys(Keys.ENTER)\n",
    "cotacaoDolar = Navegador.find_element(By.XPATH,\n",
    "                       \"/html/body/div[7]/div/div[10]/div/div[2]/div[2]/div/div/div[1]/div/div/div/div/div/div/div/div[3]/div[1]/div[1]/div[2]/span[1]\"\n",
    "                      ).get_attribute(\"data-value\")\n",
    "#display(cotacaoDolar)\n",
    "\n",
    "#Cotação Euro\n",
    "Navegador.get(\"https://www.google.com\")\n",
    "Navegador.find_element(By.XPATH,\n",
    "                       \"/html/body/div[1]/div[3]/form/div[1]/div[1]/div[1]/div/div[2]/input\").send_keys(\"cotacao euro\")\n",
    "Navegador.find_element(By.XPATH,\n",
    "                       \"/html/body/div[1]/div[3]/form/div[1]/div[1]/div[1]/div/div[2]/input\").send_keys(Keys.ENTER)\n",
    "cotacaoEuro = Navegador.find_element(By.XPATH,\n",
    "                       \"/html/body/div[7]/div/div[10]/div/div[2]/div[2]/div/div/div[1]/div/div/div/div/div/div/div/div[3]/div[1]/div[1]/div[2]/span[1]\"\n",
    "                      ).get_attribute(\"data-value\")\n",
    "#display(cotacaoEuro)\n",
    "\n",
    "#Cotação Ouro\n",
    "Navegador.get(\"https://www.melhorcambio.com/ouro-hoje\")\n",
    "cotacaoOuro = Navegador.find_element(By.XPATH,\n",
    "                       \"/html/body/div[5]/div[1]/div/div/input[2]\"\n",
    "                      ).get_attribute(\"value\").replace(',','.')\n",
    "#display(cotacaoOuro)\n",
    "\n",
    "Navegador.close()\n",
    "\n",
    "Data = {\n",
    "    'Dólar': [cotacaoDolar],\n",
    "    'Euro': [cotacaoEuro],\n",
    "    'Ouro': [cotacaoOuro]\n",
    "}\n",
    "\n",
    "Tabela = pd.DataFrame(Data)\n",
    "Tabela.to_excel(\"Cotação_Dólar_Euro_Ouro.xlsx\", index=False)"
   ]
  },
  {
   "cell_type": "code",
   "execution_count": null,
   "id": "ba49736e",
   "metadata": {},
   "outputs": [],
   "source": []
  }
 ],
 "metadata": {
  "kernelspec": {
   "display_name": "Python 3 (ipykernel)",
   "language": "python",
   "name": "python3"
  },
  "language_info": {
   "codemirror_mode": {
    "name": "ipython",
    "version": 3
   },
   "file_extension": ".py",
   "mimetype": "text/x-python",
   "name": "python",
   "nbconvert_exporter": "python",
   "pygments_lexer": "ipython3",
   "version": "3.9.13"
  }
 },
 "nbformat": 4,
 "nbformat_minor": 5
}
